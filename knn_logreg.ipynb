{
 "cells": [
  {
   "cell_type": "markdown",
   "metadata": {},
   "source": [
    "## Loading/Importing"
   ]
  },
  {
   "attachments": {},
   "cell_type": "markdown",
   "metadata": {},
   "source": [
    "### Import libraries"
   ]
  },
  {
   "cell_type": "code",
   "execution_count": 1,
   "metadata": {},
   "outputs": [],
   "source": [
    "''' Import libraries '''\n",
    "import matplotlib.pyplot as plt\n",
    "import numpy as np\n",
    "import pandas as pd\n",
    "\n",
    "from sklearn.linear_model import LogisticRegression\n",
    "from sklearn.metrics import classification_report, ConfusionMatrixDisplay, roc_curve, roc_auc_score, RocCurveDisplay\n",
    "from sklearn.model_selection import cross_val_score, GridSearchCV, train_test_split, RepeatedStratifiedKFold\n",
    "from sklearn.neighbors import KNeighborsClassifier\n",
    "from sklearn.preprocessing import StandardScaler\n",
    "\n",
    "from mlxtend.evaluate import bias_variance_decomp"
   ]
  },
  {
   "attachments": {},
   "cell_type": "markdown",
   "metadata": {},
   "source": [
    "### Load and scale data"
   ]
  },
  {
   "cell_type": "code",
   "execution_count": 2,
   "metadata": {},
   "outputs": [
    {
     "data": {
      "text/html": [
       "<div>\n",
       "<style scoped>\n",
       "    .dataframe tbody tr th:only-of-type {\n",
       "        vertical-align: middle;\n",
       "    }\n",
       "\n",
       "    .dataframe tbody tr th {\n",
       "        vertical-align: top;\n",
       "    }\n",
       "\n",
       "    .dataframe thead th {\n",
       "        text-align: right;\n",
       "    }\n",
       "</style>\n",
       "<table border=\"1\" class=\"dataframe\">\n",
       "  <thead>\n",
       "    <tr style=\"text-align: right;\">\n",
       "      <th></th>\n",
       "      <th>Age</th>\n",
       "      <th>Sex</th>\n",
       "      <th>Chest pain type</th>\n",
       "      <th>BP</th>\n",
       "      <th>Cholesterol</th>\n",
       "      <th>EKG results</th>\n",
       "      <th>Max HR</th>\n",
       "      <th>Exercise angina</th>\n",
       "      <th>ST depression</th>\n",
       "      <th>Slope of ST</th>\n",
       "      <th>Number of vessels fluro</th>\n",
       "      <th>Thallium</th>\n",
       "    </tr>\n",
       "  </thead>\n",
       "  <tbody>\n",
       "    <tr>\n",
       "      <th>0</th>\n",
       "      <td>70</td>\n",
       "      <td>1</td>\n",
       "      <td>4</td>\n",
       "      <td>130</td>\n",
       "      <td>322</td>\n",
       "      <td>2</td>\n",
       "      <td>109</td>\n",
       "      <td>0</td>\n",
       "      <td>2.4</td>\n",
       "      <td>2</td>\n",
       "      <td>3</td>\n",
       "      <td>3</td>\n",
       "    </tr>\n",
       "    <tr>\n",
       "      <th>1</th>\n",
       "      <td>67</td>\n",
       "      <td>0</td>\n",
       "      <td>3</td>\n",
       "      <td>115</td>\n",
       "      <td>564</td>\n",
       "      <td>2</td>\n",
       "      <td>160</td>\n",
       "      <td>0</td>\n",
       "      <td>1.6</td>\n",
       "      <td>2</td>\n",
       "      <td>0</td>\n",
       "      <td>7</td>\n",
       "    </tr>\n",
       "    <tr>\n",
       "      <th>2</th>\n",
       "      <td>57</td>\n",
       "      <td>1</td>\n",
       "      <td>2</td>\n",
       "      <td>124</td>\n",
       "      <td>261</td>\n",
       "      <td>0</td>\n",
       "      <td>141</td>\n",
       "      <td>0</td>\n",
       "      <td>0.3</td>\n",
       "      <td>1</td>\n",
       "      <td>0</td>\n",
       "      <td>7</td>\n",
       "    </tr>\n",
       "    <tr>\n",
       "      <th>3</th>\n",
       "      <td>64</td>\n",
       "      <td>1</td>\n",
       "      <td>4</td>\n",
       "      <td>128</td>\n",
       "      <td>263</td>\n",
       "      <td>0</td>\n",
       "      <td>105</td>\n",
       "      <td>1</td>\n",
       "      <td>0.2</td>\n",
       "      <td>2</td>\n",
       "      <td>1</td>\n",
       "      <td>7</td>\n",
       "    </tr>\n",
       "    <tr>\n",
       "      <th>4</th>\n",
       "      <td>74</td>\n",
       "      <td>0</td>\n",
       "      <td>2</td>\n",
       "      <td>120</td>\n",
       "      <td>269</td>\n",
       "      <td>2</td>\n",
       "      <td>121</td>\n",
       "      <td>1</td>\n",
       "      <td>0.2</td>\n",
       "      <td>1</td>\n",
       "      <td>1</td>\n",
       "      <td>3</td>\n",
       "    </tr>\n",
       "  </tbody>\n",
       "</table>\n",
       "</div>"
      ],
      "text/plain": [
       "   Age  Sex  Chest pain type   BP  Cholesterol  EKG results  Max HR  \\\n",
       "0   70    1                4  130          322            2     109   \n",
       "1   67    0                3  115          564            2     160   \n",
       "2   57    1                2  124          261            0     141   \n",
       "3   64    1                4  128          263            0     105   \n",
       "4   74    0                2  120          269            2     121   \n",
       "\n",
       "   Exercise angina  ST depression  Slope of ST  Number of vessels fluro  \\\n",
       "0                0            2.4            2                        3   \n",
       "1                0            1.6            2                        0   \n",
       "2                0            0.3            1                        0   \n",
       "3                1            0.2            2                        1   \n",
       "4                1            0.2            1                        1   \n",
       "\n",
       "   Thallium  \n",
       "0         3  \n",
       "1         7  \n",
       "2         7  \n",
       "3         7  \n",
       "4         3  "
      ]
     },
     "execution_count": 2,
     "metadata": {},
     "output_type": "execute_result"
    }
   ],
   "source": [
    "''' Load data '''\n",
    "file_path = \"/Users/bryanmcelvy/Documents/datasets/Heart_Disease_Prediction.csv\" # Make sure to change this\n",
    "df_all = pd.read_csv(file_path).drop([\"index\"], axis=1)\n",
    "df = df_all.drop(\"Heart Disease\", axis=1) # DataFrame containing the dataset without the target variable\n",
    "\n",
    "''' Drop removed feature (FBS over 120) from data '''\n",
    "df.drop([df.columns[5]], axis=1, inplace=True)\n",
    "df.head()"
   ]
  },
  {
   "cell_type": "code",
   "execution_count": 3,
   "metadata": {},
   "outputs": [
    {
     "data": {
      "text/plain": [
       "0    Presence\n",
       "1     Absence\n",
       "2    Presence\n",
       "3     Absence\n",
       "4     Absence\n",
       "Name: Heart Disease, dtype: object"
      ]
     },
     "execution_count": 3,
     "metadata": {},
     "output_type": "execute_result"
    }
   ],
   "source": [
    "s_target = df_all[\"Heart Disease\"]       # DataFrame containing only the target variable\n",
    "labels = {0: \"Absence\", 1: \"Presence\"}\n",
    "s_target.head()"
   ]
  },
  {
   "cell_type": "code",
   "execution_count": 4,
   "metadata": {},
   "outputs": [],
   "source": [
    "X = df.to_numpy()\n",
    "y = np.array([1 if (s_target.iloc[i] == labels[1]) else 0 for i in range(len(s_target))])\n",
    "\n",
    "''' Scale data '''\n",
    "scaler = StandardScaler().fit(X)\n",
    "X = scaler.transform(X)\n",
    "\n",
    "''' Split into training and test sets '''\n",
    "X_train, X_test, y_train, y_test = train_test_split(X, y, random_state=42)"
   ]
  },
  {
   "attachments": {},
   "cell_type": "markdown",
   "metadata": {},
   "source": [
    "# K-Nearest Neighbors (KNN) Classifier"
   ]
  },
  {
   "attachments": {},
   "cell_type": "markdown",
   "metadata": {},
   "source": [
    "## Hyperparameter Tuning"
   ]
  },
  {
   "cell_type": "code",
   "execution_count": 5,
   "metadata": {},
   "outputs": [],
   "source": [
    "knn_params = {\"n_neighbors\": np.arange(1, 20, dtype=int),\n",
    "            \"weights\": ['uniform', 'distance'],\n",
    "            \"algorithm\": ['ball_tree', 'kd_tree', 'brute'],\n",
    "            \"p\": np.arange(1, 10, dtype=int)}\n",
    "knn = KNeighborsClassifier()\n",
    "cv = RepeatedStratifiedKFold(n_splits=10, n_repeats = 3, random_state=1)"
   ]
  },
  {
   "cell_type": "code",
   "execution_count": 6,
   "metadata": {},
   "outputs": [
    {
     "name": "stdout",
     "output_type": "stream",
     "text": [
      "Fitting 30 folds for each of 1026 candidates, totalling 30780 fits\n",
      "Best Parameters: {'algorithm': 'ball_tree', 'n_neighbors': 11, 'p': 6, 'weights': 'uniform'}\n"
     ]
    }
   ],
   "source": [
    "knn_grid_search = GridSearchCV(estimator=knn, param_grid=knn_params, cv=cv, verbose=1)\n",
    "knn_grid_search_result = knn_grid_search.fit(X_train, y_train)\n",
    "print(\"Best Parameters:\", knn_grid_search_result.best_params_)"
   ]
  },
  {
   "cell_type": "code",
   "execution_count": 7,
   "metadata": {},
   "outputs": [],
   "source": [
    "knn_algo = knn_grid_search_result.best_params_['algorithm']\n",
    "k = knn_grid_search_result.best_params_['n_neighbors']\n",
    "knn_weights = knn_grid_search_result.best_params_['weights']\n",
    "knn_p = knn_grid_search_result.best_params_['p']\n",
    "\n",
    "knn = KNeighborsClassifier(n_neighbors=k, algorithm=knn_algo, weights=knn_weights, p=knn_p)\n",
    "knn.fit(X_train, y_train);"
   ]
  },
  {
   "attachments": {},
   "cell_type": "markdown",
   "metadata": {},
   "source": [
    "## Cross-validation"
   ]
  },
  {
   "cell_type": "code",
   "execution_count": 26,
   "metadata": {},
   "outputs": [
    {
     "name": "stdout",
     "output_type": "stream",
     "text": [
      "Cross-Validation Scores\n",
      "\tAvg. Accuracy:\t0.8365079365079366\n",
      "\tSt. Dev:\t0.1416260890710753\n"
     ]
    }
   ],
   "source": [
    "knn_cv_score = cross_val_score(knn, X_test, y_test, scoring='accuracy', cv=cv)\n",
    "print(\"Cross-Validation Scores\")\n",
    "print(f\"\\tAvg. Accuracy:\\t{np.mean(knn_cv_score)}\\n\\tSt. Dev:\\t{np.std(knn_cv_score)}\")"
   ]
  },
  {
   "attachments": {},
   "cell_type": "markdown",
   "metadata": {},
   "source": [
    "## Performance Evaluation"
   ]
  },
  {
   "cell_type": "code",
   "execution_count": 9,
   "metadata": {},
   "outputs": [],
   "source": [
    "y_pred_knn = knn.predict(X_test)"
   ]
  },
  {
   "attachments": {},
   "cell_type": "markdown",
   "metadata": {},
   "source": [
    "### F-Score"
   ]
  },
  {
   "cell_type": "code",
   "execution_count": 10,
   "metadata": {},
   "outputs": [
    {
     "name": "stdout",
     "output_type": "stream",
     "text": [
      "              precision    recall  f1-score   support\n",
      "\n",
      "     Absence       0.86      0.95      0.90        40\n",
      "    Presence       0.92      0.79      0.85        28\n",
      "\n",
      "    accuracy                           0.88        68\n",
      "   macro avg       0.89      0.87      0.88        68\n",
      "weighted avg       0.89      0.88      0.88        68\n",
      "\n"
     ]
    }
   ],
   "source": [
    "print(classification_report(y_test, y_pred_knn, labels=list(labels.keys()), target_names=[labels[0], labels[1]]))"
   ]
  },
  {
   "attachments": {},
   "cell_type": "markdown",
   "metadata": {},
   "source": [
    "### Bias-Variance Tradeoff"
   ]
  },
  {
   "cell_type": "code",
   "execution_count": 11,
   "metadata": {},
   "outputs": [
    {
     "name": "stdout",
     "output_type": "stream",
     "text": [
      "Expected Loss: 0.14147058823529413\n",
      "Avg. Bias: 0.11764705882352941\n",
      "Avg. Variance: 0.05441176470588235\n"
     ]
    }
   ],
   "source": [
    "knn_expected_loss, knn_avg_bias, knn_avg_var = bias_variance_decomp(\n",
    "    knn, X_train, y_train, X_test, y_test, random_seed=42)\n",
    "print(f\"Expected Loss: {knn_expected_loss}\\nAvg. Bias: {knn_avg_bias}\\nAvg. Variance: {knn_avg_var}\")"
   ]
  },
  {
   "attachments": {},
   "cell_type": "markdown",
   "metadata": {},
   "source": [
    "### Confusion Matrix"
   ]
  },
  {
   "cell_type": "code",
   "execution_count": 12,
   "metadata": {},
   "outputs": [
    {
     "data": {
      "text/plain": [
       "Text(0.5, 1.0, 'Confusion Matrix for K-Nearest Neighbors Classifier')"
      ]
     },
     "execution_count": 12,
     "metadata": {},
     "output_type": "execute_result"
    },
    {
     "data": {
      "image/png": "[encoded data removed]",
      "text/plain": [
       "<Figure size 640x480 with 2 Axes>"
      ]
     },
     "metadata": {},
     "output_type": "display_data"
    }
   ],
   "source": [
    "ConfusionMatrixDisplay.from_predictions(\n",
    "    y_test, y_pred_knn, \n",
    "    labels=list(labels.keys()), display_labels=[labels[0], labels[1]])\n",
    "plt.title(\"Confusion Matrix for K-Nearest Neighbors Classifier\")"
   ]
  },
  {
   "attachments": {},
   "cell_type": "markdown",
   "metadata": {},
   "source": [
    "### ROC Curve"
   ]
  },
  {
   "cell_type": "code",
   "execution_count": 13,
   "metadata": {},
   "outputs": [
    {
     "name": "stdout",
     "output_type": "stream",
     "text": [
      "Area under ROC Curve (AUC): 0.8678571428571428\n"
     ]
    }
   ],
   "source": [
    "FP_rate_knn, TP_rate_knn, thresholds_knn = roc_curve(y_test, y_pred_knn)\n",
    "AUC_knn = roc_auc_score(y_test, y_pred_knn)\n",
    "print(f\"Area under ROC Curve (AUC): {AUC_knn}\")"
   ]
  },
  {
   "cell_type": "code",
   "execution_count": 14,
   "metadata": {},
   "outputs": [
    {
     "data": {
      "image/png": "[encoded data removed]",
      "text/plain": [
       "<Figure size 640x480 with 1 Axes>"
      ]
     },
     "metadata": {},
     "output_type": "display_data"
    }
   ],
   "source": [
    "RocCurveDisplay.from_predictions(y_test, y_pred_knn)\n",
    "plt.title(\"ROC Curve for K-Nearest Neighbors Classifier\");"
   ]
  },
  {
   "attachments": {},
   "cell_type": "markdown",
   "metadata": {},
   "source": [
    "# Logistic Regression Classifier"
   ]
  },
  {
   "cell_type": "markdown",
   "metadata": {},
   "source": [
    "## Hyperparameter Tuning"
   ]
  },
  {
   "cell_type": "code",
   "execution_count": 15,
   "metadata": {},
   "outputs": [],
   "source": [
    "log_reg_params = {\"solver\": ['lbfgs', 'liblinear', 'newton-cg', 'newton-cholesky', 'sag', 'saga'],\n",
    "                    \"C\": np.linspace(0.1, 1.0, 10, dtype=float),\n",
    "                    \"fit_intercept\": [True, False],\n",
    "                    \"max_iter\": np.linspace(100, 1000, 10, dtype=int)}\n",
    "\n",
    "log_reg = LogisticRegression()"
   ]
  },
  {
   "cell_type": "code",
   "execution_count": 16,
   "metadata": {},
   "outputs": [
    {
     "name": "stdout",
     "output_type": "stream",
     "text": [
      "Fitting 30 folds for each of 1200 candidates, totalling 36000 fits\n",
      "Best Parameters: {'C': 0.1, 'fit_intercept': True, 'max_iter': 100, 'solver': 'lbfgs'}\n"
     ]
    }
   ],
   "source": [
    "log_reg_grid_search = GridSearchCV(estimator=log_reg, param_grid=log_reg_params, cv=cv, verbose=1)\n",
    "log_reg_grid_search_result = log_reg_grid_search.fit(X_train, y_train)\n",
    "print(\"Best Parameters:\", log_reg_grid_search_result.best_params_)"
   ]
  },
  {
   "cell_type": "code",
   "execution_count": 17,
   "metadata": {},
   "outputs": [],
   "source": [
    "log_reg_C = log_reg_grid_search_result.best_params_['C']\n",
    "log_reg_fit_intercept = log_reg_grid_search_result.best_params_['fit_intercept']\n",
    "log_reg_max_iter = log_reg_grid_search_result.best_params_['max_iter']\n",
    "log_reg_solver = log_reg_grid_search_result.best_params_['solver']\n",
    "\n",
    "log_reg = LogisticRegression(C=log_reg_C, fit_intercept=log_reg_fit_intercept,\n",
    "                                max_iter=log_reg_max_iter, solver=log_reg_solver)\n",
    "log_reg.fit(X_train, y_train);"
   ]
  },
  {
   "cell_type": "markdown",
   "metadata": {},
   "source": [
    "## Cross-validation"
   ]
  },
  {
   "cell_type": "code",
   "execution_count": 25,
   "metadata": {},
   "outputs": [
    {
     "name": "stdout",
     "output_type": "stream",
     "text": [
      "Cross-Validation Scores\n",
      "\tAvg. Accuracy:\t0.8944444444444445\n",
      "\tSt. Dev:\t0.10853301557540758\n"
     ]
    }
   ],
   "source": [
    "log_reg_cv_score = cross_val_score(log_reg, X_test, y_test, scoring='accuracy', cv=cv)\n",
    "\n",
    "print(\"Cross-Validation Scores\")\n",
    "print(f\"\\tAvg. Accuracy:\\t{np.mean(log_reg_cv_score)}\\n\\tSt. Dev:\\t{np.std(log_reg_cv_score)}\")"
   ]
  },
  {
   "cell_type": "markdown",
   "metadata": {},
   "source": [
    "## Performance Evaluation"
   ]
  },
  {
   "cell_type": "code",
   "execution_count": 19,
   "metadata": {},
   "outputs": [],
   "source": [
    "y_pred_log_reg = log_reg.predict(X_test)"
   ]
  },
  {
   "cell_type": "markdown",
   "metadata": {},
   "source": [
    "### F-Score"
   ]
  },
  {
   "cell_type": "code",
   "execution_count": 20,
   "metadata": {},
   "outputs": [
    {
     "name": "stdout",
     "output_type": "stream",
     "text": [
      "              precision    recall  f1-score   support\n",
      "\n",
      "     Absence       0.86      0.93      0.89        40\n",
      "    Presence       0.88      0.79      0.83        28\n",
      "\n",
      "    accuracy                           0.87        68\n",
      "   macro avg       0.87      0.86      0.86        68\n",
      "weighted avg       0.87      0.87      0.87        68\n",
      "\n"
     ]
    }
   ],
   "source": [
    "print(classification_report(y_test, y_pred_log_reg, labels=list(labels.keys()), target_names=[labels[0], labels[1]]))"
   ]
  },
  {
   "cell_type": "markdown",
   "metadata": {},
   "source": [
    "### Bias-Variance Tradeoff"
   ]
  },
  {
   "cell_type": "code",
   "execution_count": 21,
   "metadata": {},
   "outputs": [
    {
     "name": "stdout",
     "output_type": "stream",
     "text": [
      "Expected Loss:\t0.1398529411764706\n",
      "Avg. Bias:\t0.10294117647058823\n",
      "Avg. Variance:\t0.06470588235294118\n"
     ]
    }
   ],
   "source": [
    "log_reg_expected_loss, log_reg_avg_bias, log_reg_avg_var = bias_variance_decomp(\n",
    "    log_reg, X_train, y_train, X_test, y_test, random_seed=42)\n",
    "print(f\"Expected Loss:\\t{log_reg_expected_loss}\\nAvg. Bias:\\t{log_reg_avg_bias}\\nAvg. Variance:\\t{log_reg_avg_var}\")"
   ]
  },
  {
   "cell_type": "markdown",
   "metadata": {},
   "source": [
    "### Confusion Matrix"
   ]
  },
  {
   "cell_type": "code",
   "execution_count": 22,
   "metadata": {},
   "outputs": [
    {
     "data": {
      "text/plain": [
       "<sklearn.metrics._plot.confusion_matrix.ConfusionMatrixDisplay at 0x7ff7860fb310>"
      ]
     },
     "execution_count": 22,
     "metadata": {},
     "output_type": "execute_result"
    },
    {
     "data": {
      "image/png": "[encoded data removed]",
      "text/plain": [
       "<Figure size 640x480 with 2 Axes>"
      ]
     },
     "metadata": {},
     "output_type": "display_data"
    }
   ],
   "source": [
    "ConfusionMatrixDisplay.from_predictions(\n",
    "    y_test, y_pred_log_reg, \n",
    "    labels=list(labels.keys()), display_labels=[labels[0], labels[1]])\n",
    "plt.title(\"Confusion Matrix for Logistic Regression Classifer\")"
   ]
  },
  {
   "cell_type": "markdown",
   "metadata": {},
   "source": [
    "### ROC Curve"
   ]
  },
  {
   "cell_type": "code",
   "execution_count": 23,
   "metadata": {},
   "outputs": [
    {
     "name": "stdout",
     "output_type": "stream",
     "text": [
      "Area under ROC Curve (AUC): 0.8553571428571428\n"
     ]
    }
   ],
   "source": [
    "FP_rate_log_reg, TP_rate_log_reg, thresholds_log_reg = roc_curve(y_test, y_pred_log_reg)\n",
    "AUC_log_reg = roc_auc_score(y_test, y_pred_log_reg)\n",
    "print(f\"Area under ROC Curve (AUC): {AUC_log_reg}\")"
   ]
  },
  {
   "cell_type": "code",
   "execution_count": 24,
   "metadata": {},
   "outputs": [
    {
     "data": {
      "image/png": "[encoded data removed]",
      "text/plain": [
       "<Figure size 640x480 with 1 Axes>"
      ]
     },
     "metadata": {},
     "output_type": "display_data"
    }
   ],
   "source": [
    "RocCurveDisplay.from_predictions(y_test, y_pred_log_reg)\n",
    "plt.title(\"ROC Curve for Logistic Regression Classifier\");"
   ]
  }
 ],
 "metadata": {
  "kernelspec": {
   "display_name": "ml_ds",
   "language": "python",
   "name": "python3"
  },
  "language_info": {
   "codemirror_mode": {
    "name": "ipython",
    "version": 3
   },
   "file_extension": ".py",
   "mimetype": "text/x-python",
   "name": "python",
   "nbconvert_exporter": "python",
   "pygments_lexer": "ipython3",
   "version": "3.8.16"
  },
  "orig_nbformat": 4
 },
 "nbformat": 4,
 "nbformat_minor": 2
}
