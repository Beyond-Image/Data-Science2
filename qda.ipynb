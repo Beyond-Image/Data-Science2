{
 "cells": [
  {
   "cell_type": "code",
   "execution_count": 239,
   "metadata": {},
   "outputs": [],
   "source": [
    "''' Import libraries '''\n",
    "import matplotlib.pyplot as plt\n",
    "import pandas as pd\n",
    "import seaborn as sns\n",
    "from sklearn.datasets import make_classification\n",
    "from sklearn.discriminant_analysis import LinearDiscriminantAnalysis, QuadraticDiscriminantAnalysis\n",
    "from sklearn.model_selection import RepeatedStratifiedKFold, cross_val_score, train_test_split, GridSearchCV\n",
    "from sklearn import datasets\n",
    "from sklearn.metrics import accuracy_score, confusion_matrix, roc_curve, roc_auc_score, classification_report, ConfusionMatrixDisplay\n",
    "from mlxtend.evaluate import bias_variance_decomp\n",
    "import numpy as np"
   ]
  },
  {
   "cell_type": "code",
   "execution_count": 225,
   "metadata": {},
   "outputs": [],
   "source": [
    "''' Load data '''\n",
    "file_path = \"Heart_Disease_Prediction.csv\" # Make sure to change this\n",
    "df_all = pd.read_csv(file_path).drop([\"index\"], axis=1)\n",
    "\n",
    "features_target = df_all['Heart Disease']\n",
    "\n",
    "int_convert = []\n",
    "for x in range(len(features_target)):\n",
    "    if(features_target[x] == \"Presence\"):\n",
    "        int_convert.append(1)\n",
    "    else:\n",
    "        int_convert.append(0)\n",
    "\n",
    "#define features and classification\n",
    "features_target = pd.DataFrame(data = int_convert, columns= [\"Heart Disease\"])\n",
    "features_target = features_target['Heart Disease']\n",
    "features = df_all.drop(['BP', 'Cholesterol', 'FBS over 120', 'EKG results','Heart Disease'], axis = 1)\n",
    "\n",
    "#train test split\n",
    "x_train, x_test, y_train, y_test = train_test_split(features, features_target)\n",
    "\n"
   ]
  },
  {
   "cell_type": "markdown",
   "metadata": {},
   "source": [
    "# Model"
   ]
  },
  {
   "cell_type": "code",
   "execution_count": 226,
   "metadata": {},
   "outputs": [],
   "source": [
    "model = QuadraticDiscriminantAnalysis()"
   ]
  },
  {
   "cell_type": "markdown",
   "metadata": {},
   "source": [
    "# Hyperparamater Tuning"
   ]
  },
  {
   "cell_type": "code",
   "execution_count": 227,
   "metadata": {},
   "outputs": [
    {
     "name": "stdout",
     "output_type": "stream",
     "text": [
      "This is the best paramater for the qda model:  {'reg_param': 0.1}\n"
     ]
    }
   ],
   "source": [
    "params = [{'reg_param': [0.0001, 0.001, 0.01, 0.1, 0.2, 0.3, 0.4, 0.5, 0.6, 0.7, 0.8, 0.9, 1]}]\n",
    "cv = RepeatedStratifiedKFold(n_splits = 10, n_repeats = 3, random_state = 1)\n",
    "qda_grid_search = GridSearchCV(model, params, cv = cv)\n",
    "result = qda_grid_search.fit(x_train, y_train)\n",
    "print(\"This is the best paramater for the qda model: \", result.best_params_)\n"
   ]
  },
  {
   "cell_type": "code",
   "execution_count": 228,
   "metadata": {},
   "outputs": [
    {
     "data": {
      "text/plain": [
       "0.1"
      ]
     },
     "execution_count": 228,
     "metadata": {},
     "output_type": "execute_result"
    }
   ],
   "source": [
    "#grabbing the best paramater value in the dictionary\n",
    "best_param_dict = result.best_params_.values()\n",
    "best_param_value = sum(best_param_dict)\n",
    "best_param_value"
   ]
  },
  {
   "cell_type": "markdown",
   "metadata": {},
   "source": [
    "# Bias Variance Tradeoff"
   ]
  },
  {
   "cell_type": "code",
   "execution_count": 229,
   "metadata": {},
   "outputs": [],
   "source": [
    "y_bias = []\n",
    "y_var = []\n",
    "for param in params[0][\"reg_param\"]:\n",
    "    best_qda_model = QuadraticDiscriminantAnalysis(reg_param = param)\n",
    "    best_qda_model.fit(x_train, y_train)\n",
    "    avg_expected_loss, avg_bias, avg_var = bias_variance_decomp(\n",
    "        best_qda_model, x_train.values, y_train.values, x_test.values, y_test.values, \n",
    "        loss='0-1_loss')\n",
    "    y_bias.append(avg_bias)\n",
    "    y_var.append(avg_var)\n"
   ]
  },
  {
   "cell_type": "code",
   "execution_count": 230,
   "metadata": {},
   "outputs": [
    {
     "data": {
      "text/plain": [
       "Text(0, 0.5, 'Bias - Variance')"
      ]
     },
     "execution_count": 230,
     "metadata": {},
     "output_type": "execute_result"
    },
    {
     "data": {
      "image/png": "[encoded data removed]",
      "text/plain": [
       "<Figure size 432x288 with 1 Axes>"
      ]
     },
     "metadata": {
      "needs_background": "light"
     },
     "output_type": "display_data"
    }
   ],
   "source": [
    "plt.plot(params[0][\"reg_param\"], y_bias)\n",
    "plt.plot(params[0][\"reg_param\"], y_var)\n",
    "plt.legend(['Bias','Variance'])\n",
    "plt.title(\"Bias-Variance trade off\")\n",
    "plt.xlabel(\"reg_param Paramater\")\n",
    "plt.ylabel(\"Bias - Variance\")"
   ]
  },
  {
   "cell_type": "markdown",
   "metadata": {},
   "source": [
    "# Best Model"
   ]
  },
  {
   "cell_type": "code",
   "execution_count": 231,
   "metadata": {},
   "outputs": [
    {
     "data": {
      "text/plain": [
       "QuadraticDiscriminantAnalysis(reg_param=0.1)"
      ]
     },
     "execution_count": 231,
     "metadata": {},
     "output_type": "execute_result"
    }
   ],
   "source": [
    "best_qda_model = QuadraticDiscriminantAnalysis(reg_param = best_param_value)\n",
    "best_qda_model.fit(x_train, y_train)"
   ]
  },
  {
   "cell_type": "markdown",
   "metadata": {},
   "source": [
    "# Predict Values"
   ]
  },
  {
   "cell_type": "code",
   "execution_count": 232,
   "metadata": {},
   "outputs": [
    {
     "data": {
      "text/plain": [
       "array([0, 0, 0, 1, 0, 0, 0, 0, 0, 1, 1, 1, 1, 0, 0, 0, 0, 0, 1, 0, 0, 1,\n",
       "       1, 1, 0, 0, 1, 0, 0, 1, 1, 1, 0, 0, 0, 0, 0, 0, 1, 0, 0, 0, 0, 0,\n",
       "       0, 1, 0, 1, 0, 1, 0, 1, 1, 1, 0, 1, 1, 0, 0, 0, 0, 0, 0, 1, 1, 1,\n",
       "       0, 0])"
      ]
     },
     "execution_count": 232,
     "metadata": {},
     "output_type": "execute_result"
    }
   ],
   "source": [
    "y_pred=best_qda_model.predict(x_test)\n",
    "y_pred"
   ]
  },
  {
   "cell_type": "markdown",
   "metadata": {},
   "source": [
    "# Cross Validation Score"
   ]
  },
  {
   "cell_type": "code",
   "execution_count": 233,
   "metadata": {},
   "outputs": [
    {
     "name": "stdout",
     "output_type": "stream",
     "text": [
      "The cross validation accuracy score is:  0.8419753086419752\n"
     ]
    }
   ],
   "source": [
    "scores = cross_val_score(best_qda_model, features, features_target, scoring='accuracy', cv=cv, n_jobs=-1)\n",
    "print(\"The cross validation accuracy score is: \", np.mean(scores)) "
   ]
  },
  {
   "cell_type": "markdown",
   "metadata": {},
   "source": [
    "# ROC Curve"
   ]
  },
  {
   "cell_type": "code",
   "execution_count": 234,
   "metadata": {},
   "outputs": [
    {
     "name": "stdout",
     "output_type": "stream",
     "text": [
      "The area under the curve is:  0.866600790513834\n"
     ]
    },
    {
     "data": {
      "image/png": "[encoded data removed]",
      "text/plain": [
       "<Figure size 432x288 with 1 Axes>"
      ]
     },
     "metadata": {
      "needs_background": "light"
     },
     "output_type": "display_data"
    }
   ],
   "source": [
    "false_positive_rate, true_positive_rate, threshold = roc_curve(y_test, y_pred)\n",
    "plt.plot(false_positive_rate, true_positive_rate)\n",
    "plt.title(\"ROC Curve\")\n",
    "plt.xlabel(\"false positive rate\")\n",
    "plt.ylabel(\"true positive rate\")\n",
    "area_under_curve = roc_auc_score(y_test, y_pred)\n",
    "print(\"The area under the curve is: \", area_under_curve)"
   ]
  },
  {
   "cell_type": "markdown",
   "metadata": {},
   "source": [
    "# Confusion Matrix"
   ]
  },
  {
   "cell_type": "code",
   "execution_count": 242,
   "metadata": {},
   "outputs": [
    {
     "data": {
      "text/plain": [
       "<sklearn.metrics._plot.confusion_matrix.ConfusionMatrixDisplay at 0x7f95513e4cd0>"
      ]
     },
     "execution_count": 242,
     "metadata": {},
     "output_type": "execute_result"
    },
    {
     "data": {
      "image/png": "[encoded data removed]",
      "text/plain": [
       "<Figure size 432x288 with 2 Axes>"
      ]
     },
     "metadata": {
      "needs_background": "light"
     },
     "output_type": "display_data"
    }
   ],
   "source": [
    "qda_conf_mat = confusion_matrix(y_test, y_pred)\n",
    "disp = ConfusionMatrixDisplay(confusion_matrix = qda_conf_mat, display_labels=best_qda_model.classes_)\n",
    "disp.plot()"
   ]
  },
  {
   "cell_type": "markdown",
   "metadata": {},
   "source": [
    "# F-Score"
   ]
  },
  {
   "cell_type": "code",
   "execution_count": 236,
   "metadata": {},
   "outputs": [
    {
     "name": "stdout",
     "output_type": "stream",
     "text": [
      "                precision    recall  f1-score   support\n",
      "\n",
      "class Presence       0.93      0.87      0.90        46\n",
      "class Abscence       0.76      0.86      0.81        22\n",
      "\n",
      "      accuracy                           0.87        68\n",
      "     macro avg       0.85      0.87      0.85        68\n",
      "  weighted avg       0.88      0.87      0.87        68\n",
      "\n"
     ]
    }
   ],
   "source": [
    "target_names = ['class Presence', 'class Abscence']\n",
    "print(classification_report(y_test, y_pred, target_names=target_names))"
   ]
  },
  {
   "cell_type": "markdown",
   "metadata": {},
   "source": [
    "# Bias Variance"
   ]
  },
  {
   "cell_type": "code",
   "execution_count": 237,
   "metadata": {},
   "outputs": [
    {
     "name": "stdout",
     "output_type": "stream",
     "text": [
      "this is the average bias:  0.1323529411764706\n",
      "this is the average variance:  0.06176470588235293\n"
     ]
    }
   ],
   "source": [
    "avg_expected_loss, avg_bias, avg_var = bias_variance_decomp(\n",
    "        best_qda_model, x_train.values, y_train.values, x_test.values, y_test.values, \n",
    "        loss='0-1_loss')\n",
    "print(\"this is the average bias: \", avg_bias)\n",
    "print(\"this is the average variance: \", avg_var)"
   ]
  }
 ],
 "metadata": {
  "kernelspec": {
   "display_name": "Python 3 (ipykernel)",
   "language": "python",
   "name": "python3"
  },
  "language_info": {
   "codemirror_mode": {
    "name": "ipython",
    "version": 3
   },
   "file_extension": ".py",
   "mimetype": "text/x-python",
   "name": "python",
   "nbconvert_exporter": "python",
   "pygments_lexer": "ipython3",
   "version": "3.9.13"
  },
  "vscode": {
   "interpreter": {
    "hash": "74920aab1500f9b9379c99103e8bb84888f29e46f52c5bd22e84857fb36b024d"
   }
  }
 },
 "nbformat": 4,
 "nbformat_minor": 2
}
