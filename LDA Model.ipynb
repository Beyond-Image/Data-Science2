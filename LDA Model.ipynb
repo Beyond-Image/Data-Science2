{
 "cells": [
  {
   "cell_type": "code",
   "execution_count": 4,
   "id": "4bdf3c9b",
   "metadata": {},
   "outputs": [],
   "source": [
    "import matplotlib.pyplot as plt\n",
    "from sklearn.datasets import make_classification\n",
    "from sklearn.model_selection import cross_val_score, RepeatedStratifiedKFold, GridSearchCV, train_test_split\n",
    "from sklearn.discriminant_analysis import LinearDiscriminantAnalysis\n",
    "from mlxtend.evaluate import bias_variance_decomp\n",
    "from sklearn.metrics import accuracy_score, confusion_matrix, roc_curve, roc_auc_score, classification_report\n",
    "from sklearn.preprocessing import StandardScaler\n",
    "import numpy as np\n",
    "import pandas as pd"
   ]
  },
  {
   "cell_type": "markdown",
   "id": "64da5bd5",
   "metadata": {},
   "source": [
    "# Dataset"
   ]
  },
  {
   "cell_type": "code",
   "execution_count": 5,
   "id": "b2b52f4c",
   "metadata": {},
   "outputs": [],
   "source": [
    "file_path = \"Heart_Disease_Prediction.csv\" # Make sure to change this\n",
    "df_LDA = pd.read_csv(file_path).drop([\"index\"], axis = 1)\n",
    "target_variable = df_LDA['Heart Disease']\n",
    "df_LDA = df_LDA.drop(['BP', 'Cholesterol', 'FBS over 120', 'EKG results','Heart Disease'], axis = 1)\n",
    "\n",
    "n_col = len(df_LDA)\n",
    "n_feat = len(df_LDA.columns)\n",
    "\n",
    "X = df_LDA\n",
    "y = target_variable\n",
    "\n",
    "array = []\n",
    "for x in range(len(y)):\n",
    "    if(y[x] == \"Absence\"):\n",
    "        array.append(0)\n",
    "    else:\n",
    "        array.append(1)\n",
    "y = pd.DataFrame(data = array, columns=[\"Heart Disease\"])\n",
    "y=y['Heart Disease']\n",
    "#scaler = StandardScaler().fit(X)\n",
    "#X = scaler.transform(X)"
   ]
  },
  {
   "cell_type": "markdown",
   "id": "54d730a8",
   "metadata": {},
   "source": [
    "# Hyperparameter Tuning"
   ]
  },
  {
   "cell_type": "code",
   "execution_count": 6,
   "id": "81b83719",
   "metadata": {},
   "outputs": [
    {
     "name": "stdout",
     "output_type": "stream",
     "text": [
      "Mean Accuracy: 0.844 (0.061)\n"
     ]
    }
   ],
   "source": [
    "X_train, X_test, y_train, y_test = train_test_split(X, y, test_size=0.33, random_state=1)\n",
    "model = LinearDiscriminantAnalysis()\n",
    "cv = RepeatedStratifiedKFold(n_splits=10, n_repeats = 3, random_state=1)\n",
    "scores = cross_val_score(model, X, y, scoring='accuracy', cv=cv, n_jobs=-1)\n",
    "print('Mean Accuracy: %.3f (%.3f)' % (np.mean(scores), np.std(scores)))"
   ]
  },
  {
   "cell_type": "code",
   "execution_count": 7,
   "id": "f3607342",
   "metadata": {},
   "outputs": [
    {
     "name": "stdout",
     "output_type": "stream",
     "text": [
      "Mean Accuracy: 0.844\n",
      "Config: {'solver': 'svd'}\n"
     ]
    }
   ],
   "source": [
    "grid = dict()\n",
    "grid['solver'] = ['svd', 'lsqr', 'eigen']\n",
    "search = GridSearchCV(model, grid, scoring='accuracy', cv=cv, n_jobs=-1)\n",
    "results = search.fit(X, y)\n",
    "print('Mean Accuracy: %.3f' % results.best_score_)\n",
    "print('Config: %s' % results.best_params_)"
   ]
  },
  {
   "cell_type": "code",
   "execution_count": 8,
   "id": "799b3598",
   "metadata": {},
   "outputs": [
    {
     "name": "stdout",
     "output_type": "stream",
     "text": [
      "Mean Accuracy: 0.844\n",
      "Config: {'solver': 'lsqr'}\n"
     ]
    }
   ],
   "source": [
    "grid = dict()\n",
    "grid['solver'] = ['lsqr', 'eigen']\n",
    "search = GridSearchCV(model, grid, scoring='accuracy', cv=cv, n_jobs=-1)\n",
    "results = search.fit(X, y)\n",
    "print('Mean Accuracy: %.3f' % results.best_score_)\n",
    "print('Config: %s' % results.best_params_)"
   ]
  },
  {
   "cell_type": "markdown",
   "id": "5cd21a87",
   "metadata": {},
   "source": [
    "# Hyperparameter Tuning Shrinkage"
   ]
  },
  {
   "cell_type": "code",
   "execution_count": 9,
   "id": "2cd2e2b9",
   "metadata": {},
   "outputs": [
    {
     "name": "stdout",
     "output_type": "stream",
     "text": [
      "{'shrinkage': 0.0}\n",
      "0.8555555555555556\n"
     ]
    }
   ],
   "source": [
    "model = LinearDiscriminantAnalysis(solver='lsqr')\n",
    "grid = dict()\n",
    "grid['shrinkage'] = np.arange(0, 1, 0.01)\n",
    "cv = RepeatedStratifiedKFold(n_splits = 10, n_repeats = 3, random_state = 1)\n",
    "lda_grid = GridSearchCV(model, grid, scoring='accuracy', cv=cv)\n",
    "results = lda_grid.fit(X_train, y_train)\n",
    "print(results.best_params_)\n",
    "print(results.best_score_)"
   ]
  },
  {
   "cell_type": "code",
   "execution_count": 10,
   "id": "e38c092c",
   "metadata": {},
   "outputs": [
    {
     "name": "stdout",
     "output_type": "stream",
     "text": [
      "     Age  Sex  Chest pain type  Max HR  Exercise angina  ST depression  \\\n",
      "185   43    1                3     162                0            1.9   \n",
      "66    51    1                4     186                1            0.0   \n",
      "204   55    1                4     145                1            0.8   \n",
      "250   54    1                4     113                0            1.4   \n",
      "168   45    0                4     152                1            0.2   \n",
      "..   ...  ...              ...     ...              ...            ...   \n",
      "203   51    1                4     173                1            1.6   \n",
      "255   71    0                2     162                0            0.4   \n",
      "72    70    1                2     143                0            0.0   \n",
      "235   62    0                4     145                0            6.2   \n",
      "37    59    1                1     125                0            0.0   \n",
      "\n",
      "     Slope of ST  Number of vessels fluro  Thallium  \n",
      "185            1                        1         3  \n",
      "66             1                        0         3  \n",
      "204            2                        1         7  \n",
      "250            2                        1         7  \n",
      "168            2                        0         3  \n",
      "..           ...                      ...       ...  \n",
      "203            1                        0         7  \n",
      "255            1                        2         3  \n",
      "72             1                        0         3  \n",
      "235            3                        3         7  \n",
      "37             1                        0         3  \n",
      "\n",
      "[180 rows x 9 columns]\n"
     ]
    }
   ],
   "source": [
    "print(X_train)"
   ]
  },
  {
   "cell_type": "code",
   "execution_count": 11,
   "id": "6c29e8d6",
   "metadata": {},
   "outputs": [],
   "source": [
    "y_bias = []\n",
    "y_var = []\n",
    "for param in grid['shrinkage']:\n",
    "    best_lda_model = LinearDiscriminantAnalysis(solver='lsqr')\n",
    "    best_lda_model.fit(X_train, y_train)\n",
    "    avg_expected_loss, avg_bias, avg_var = bias_variance_decomp(\n",
    "        best_lda_model, X_train.values, y_train.values, X_test.values, y_test.values, \n",
    "        loss='0-1_loss')\n",
    "    y_bias.append(avg_bias)\n",
    "    y_var.append(avg_var)"
   ]
  },
  {
   "cell_type": "code",
   "execution_count": 12,
   "id": "ee5fc9cd",
   "metadata": {},
   "outputs": [],
   "source": [
    "array=[]\n",
    "for x in grid['shrinkage']:\n",
    "    array.append(x)"
   ]
  },
  {
   "cell_type": "code",
   "execution_count": 13,
   "id": "1e985ab9",
   "metadata": {},
   "outputs": [
    {
     "data": {
      "text/plain": [
       "Text(0, 0.5, 'Bias - Variance')"
      ]
     },
     "execution_count": 13,
     "metadata": {},
     "output_type": "execute_result"
    },
    {
     "data": {
      "image/png": "[encoded data removed]",
      "text/plain": [
       "<Figure size 640x480 with 1 Axes>"
      ]
     },
     "metadata": {},
     "output_type": "display_data"
    }
   ],
   "source": [
    "plt.plot(grid['shrinkage'], y_bias)\n",
    "plt.plot(grid['shrinkage'], y_var)\n",
    "plt.legend(['Bias','Variance'])\n",
    "plt.title(\"Bias-Variance trade off\")\n",
    "plt.xlabel(\"reg_param Paramater\")\n",
    "plt.ylabel(\"Bias - Variance\")"
   ]
  },
  {
   "cell_type": "markdown",
   "id": "bdfc4b91",
   "metadata": {},
   "source": [
    "# Variance, Mean Square Error, and Bias"
   ]
  },
  {
   "cell_type": "code",
   "execution_count": 19,
   "id": "a5be6ce3",
   "metadata": {},
   "outputs": [
    {
     "name": "stdout",
     "output_type": "stream",
     "text": [
      "MSE: 0.195\n",
      "Bias: 0.166\n",
      "Variance: 0.029\n"
     ]
    }
   ],
   "source": [
    "model = LinearDiscriminantAnalysis(solver = 'lsqr', shrinkage=0.0)\n",
    "mse, bias, var = bias_variance_decomp(model, X_train.values, y_train.values, X_test.values, y_test.values, loss='mse', num_rounds=200, random_seed=1)\n",
    "print('MSE: %.3f' % mse)\n",
    "print('Bias: %.3f' % bias)\n",
    "print('Variance: %.3f' % var)"
   ]
  },
  {
   "cell_type": "markdown",
   "id": "5c84b9b5",
   "metadata": {},
   "source": [
    "# Confusion Matrix"
   ]
  },
  {
   "cell_type": "code",
   "execution_count": 15,
   "id": "a5f4c620",
   "metadata": {},
   "outputs": [
    {
     "name": "stdout",
     "output_type": "stream",
     "text": [
      "[[42  3]\n",
      " [16 29]]\n"
     ]
    },
    {
     "name": "stderr",
     "output_type": "stream",
     "text": [
      "C:\\Users\\Felipe\\anaconda3\\lib\\site-packages\\sklearn\\base.py:443: UserWarning: X has feature names, but LinearDiscriminantAnalysis was fitted without feature names\n",
      "  warnings.warn(\n"
     ]
    }
   ],
   "source": [
    "y_pred=model.predict(X_test)\n",
    "LDA_con_mat = confusion_matrix(y_test, y_pred)\n",
    "print(LDA_con_mat)"
   ]
  },
  {
   "cell_type": "markdown",
   "id": "597e6d96",
   "metadata": {},
   "source": [
    "# F-Score"
   ]
  },
  {
   "cell_type": "code",
   "execution_count": 16,
   "id": "1edc4aa0",
   "metadata": {},
   "outputs": [
    {
     "name": "stdout",
     "output_type": "stream",
     "text": [
      "                precision    recall  f1-score   support\n",
      "\n",
      "class Presence       0.72      0.93      0.82        45\n",
      "class Abscence       0.91      0.64      0.75        45\n",
      "\n",
      "      accuracy                           0.79        90\n",
      "     macro avg       0.82      0.79      0.78        90\n",
      "  weighted avg       0.82      0.79      0.78        90\n",
      "\n"
     ]
    }
   ],
   "source": [
    "target_names = ['class Presence', 'class Abscence']\n",
    "print(classification_report(y_test, y_pred, target_names=target_names))"
   ]
  },
  {
   "cell_type": "markdown",
   "id": "111cddc0",
   "metadata": {},
   "source": [
    "# Bias Variance"
   ]
  },
  {
   "cell_type": "code",
   "execution_count": 20,
   "id": "4f39bdfe",
   "metadata": {},
   "outputs": [
    {
     "name": "stdout",
     "output_type": "stream",
     "text": [
      "this is the average bias:  0.17777777777777778\n",
      "this is the average variance:  0.04094444444444444\n"
     ]
    }
   ],
   "source": [
    "avg_expected_loss, avg_bias, avg_var = bias_variance_decomp(\n",
    "        model, X_train.values, y_train.values, X_test.values, y_test.values, \n",
    "        loss='0-1_loss')\n",
    "print(\"this is the average bias: \", avg_bias)\n",
    "print(\"this is the average variance: \", avg_var)"
   ]
  },
  {
   "cell_type": "markdown",
   "id": "70e49135",
   "metadata": {},
   "source": [
    "# ROC Curve"
   ]
  },
  {
   "cell_type": "code",
   "execution_count": 18,
   "id": "60da62e1",
   "metadata": {},
   "outputs": [
    {
     "name": "stdout",
     "output_type": "stream",
     "text": [
      "The area under the curve is:  0.7888888888888889\n"
     ]
    },
    {
     "data": {
      "image/png": "[encoded data removed]",
      "text/plain": [
       "<Figure size 640x480 with 1 Axes>"
      ]
     },
     "metadata": {},
     "output_type": "display_data"
    }
   ],
   "source": [
    "false_positive_rate, true_positive_rate, threshold = roc_curve(y_test, y_pred)\n",
    "plt.plot(false_positive_rate, true_positive_rate)\n",
    "plt.title(\"ROC Curve\")\n",
    "plt.xlabel(\"false positive rate\")\n",
    "plt.ylabel(\"true positive rate\")\n",
    "area_under_curve = roc_auc_score(y_test, y_pred)\n",
    "print(\"The area under the curve is: \", area_under_curve)"
   ]
  },
  {
   "cell_type": "code",
   "execution_count": 122,
   "id": "63d9d58b",
   "metadata": {},
   "outputs": [
    {
     "name": "stdout",
     "output_type": "stream",
     "text": [
      "cross validation score is:  0.8444444444444443\n"
     ]
    }
   ],
   "source": [
    "scores = cross_val_score(model, X, y, scoring='accuracy', cv=cv, n_jobs=-1)\n",
    "print(\"cross validation score is: \", np.mean(scores))"
   ]
  },
  {
   "cell_type": "markdown",
   "id": "ad3472ff",
   "metadata": {},
   "source": [
    "# Testing Accuracy of Model"
   ]
  },
  {
   "cell_type": "code",
   "execution_count": 140,
   "id": "0ba64d98",
   "metadata": {},
   "outputs": [
    {
     "name": "stdout",
     "output_type": "stream",
     "text": [
      "0.8222222222222222\n"
     ]
    }
   ],
   "source": [
    "row = [70, 1, 4, 109, 0, 2.4, 2, 3, 3]\n",
    "model.fit(X_train.values, y_train.values)\n",
    "test = model.predict(X_test.values)\n",
    "number_match = 0\n",
    "track = 0\n",
    "for number in y_test:\n",
    "    if(number == test[track]):\n",
    "        number_match += 1\n",
    "        track += 1\n",
    "    else:\n",
    "        track += 1\n",
    "print(number_match/len(test))"
   ]
  },
  {
   "cell_type": "code",
   "execution_count": null,
   "id": "8c6b01f5",
   "metadata": {},
   "outputs": [],
   "source": []
  },
  {
   "cell_type": "code",
   "execution_count": null,
   "id": "7d387900",
   "metadata": {},
   "outputs": [],
   "source": []
  }
 ],
 "metadata": {
  "kernelspec": {
   "display_name": "Python 3 (ipykernel)",
   "language": "python",
   "name": "python3"
  },
  "language_info": {
   "codemirror_mode": {
    "name": "ipython",
    "version": 3
   },
   "file_extension": ".py",
   "mimetype": "text/x-python",
   "name": "python",
   "nbconvert_exporter": "python",
   "pygments_lexer": "ipython3",
   "version": "3.9.13"
  }
 },
 "nbformat": 4,
 "nbformat_minor": 5
}
