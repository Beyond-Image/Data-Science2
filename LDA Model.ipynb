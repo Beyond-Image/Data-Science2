{
 "cells": [
  {
   "cell_type": "code",
   "execution_count": 25,
   "id": "4bdf3c9b",
   "metadata": {},
   "outputs": [
    {
     "name": "stdout",
     "output_type": "stream",
     "text": [
      "     Age  Sex  Chest pain type  Max HR  Exercise angina  ST depression  \\\n",
      "0     70    1                4     109                0            2.4   \n",
      "1     67    0                3     160                0            1.6   \n",
      "2     57    1                2     141                0            0.3   \n",
      "3     64    1                4     105                1            0.2   \n",
      "4     74    0                2     121                1            0.2   \n",
      "..   ...  ...              ...     ...              ...            ...   \n",
      "265   52    1                3     162                0            0.5   \n",
      "266   44    1                2     173                0            0.0   \n",
      "267   56    0                2     153                0            1.3   \n",
      "268   57    1                4     148                0            0.4   \n",
      "269   67    1                4     108                1            1.5   \n",
      "\n",
      "     Slope of ST  Number of vessels fluro  Thallium  \n",
      "0              2                        3         3  \n",
      "1              2                        0         7  \n",
      "2              1                        0         7  \n",
      "3              2                        1         7  \n",
      "4              1                        1         3  \n",
      "..           ...                      ...       ...  \n",
      "265            1                        0         7  \n",
      "266            1                        0         7  \n",
      "267            2                        0         3  \n",
      "268            2                        0         6  \n",
      "269            2                        3         3  \n",
      "\n",
      "[270 rows x 9 columns]\n",
      "0      Presence\n",
      "1       Absence\n",
      "2      Presence\n",
      "3       Absence\n",
      "4       Absence\n",
      "         ...   \n",
      "265     Absence\n",
      "266     Absence\n",
      "267     Absence\n",
      "268     Absence\n",
      "269    Presence\n",
      "Name: Heart Disease, Length: 270, dtype: object\n"
     ]
    }
   ],
   "source": [
    "from sklearn.datasets import make_classification\n",
    "from sklearn.model_selection import cross_val_score, RepeatedStratifiedKFold, GridSearchCV\n",
    "from sklearn.discriminant_analysis import LinearDiscriminantAnalysis\n",
    "import numpy as np\n",
    "import pandas as pd\n",
    "\n",
    "file_path = \"Heart_Disease_Prediction.csv\" # Make sure to change this\n",
    "df_LDA = pd.read_csv(file_path).drop([\"index\"], axis = 1)\n",
    "target_variable = df_LDA['Heart Disease']\n",
    "df_LDA = df_LDA.drop(['BP', 'Cholesterol', 'FBS over 120', 'EKG results','Heart Disease'], axis = 1)\n",
    "\n",
    "n_col = len(df_LDA)\n",
    "n_feat = len(df_LDA.columns)\n",
    "\n",
    "X = df_LDA\n",
    "y = target_variable\n",
    "print(X)\n",
    "print(y)"
   ]
  },
  {
   "cell_type": "code",
   "execution_count": 26,
   "id": "071f1f58",
   "metadata": {},
   "outputs": [],
   "source": [
    "array = []\n",
    "for x in range(len(y)):\n",
    "    if(y[x] == \"Absence\"):\n",
    "        array.append(0)\n",
    "    else:\n",
    "        array.append(1)\n",
    "        \n",
    "y_binary = array"
   ]
  },
  {
   "cell_type": "code",
   "execution_count": 42,
   "id": "81b83719",
   "metadata": {},
   "outputs": [
    {
     "name": "stdout",
     "output_type": "stream",
     "text": [
      "20\n",
      "1\n",
      "2\n",
      "Mean Accuracy: 0.853 (0.123)\n"
     ]
    }
   ],
   "source": [
    "best_score = -1\n",
    "best_splits = 0\n",
    "best_repeats = 0\n",
    "best_random = 0\n",
    "\n",
    "for j in range(10, 40, 10):\n",
    "    for k in range(1, 11):\n",
    "            for z in range(1, 11):\n",
    "                model = LinearDiscriminantAnalysis()\n",
    "                cv = RepeatedStratifiedKFold(n_splits=j, n_repeats = k, random_state=z)\n",
    "                scores = cross_val_score(model, X, y, scoring='accuracy', cv=cv, n_jobs=-1)\n",
    "                if np.mean(scores) > best_score:\n",
    "                    best_splits = j\n",
    "                    best_repeats = k\n",
    "                    best_random = z\n",
    "                    best_score = np.mean(scores)\n",
    "    \n",
    "print(best_splits)\n",
    "print(best_repeats)\n",
    "print(best_random)\n",
    "    \n",
    "    \n",
    "model = LinearDiscriminantAnalysis()\n",
    "cv = RepeatedStratifiedKFold(n_splits=best_splits, n_repeats = best_repeats, random_state=best_random)\n",
    "scores = cross_val_score(model, X, y, scoring='accuracy', cv=cv, n_jobs=-1)\n",
    "print('Mean Accuracy: %.3f (%.3f)' % (np.mean(scores), np.std(scores)))"
   ]
  },
  {
   "cell_type": "code",
   "execution_count": 44,
   "id": "20a9eed3",
   "metadata": {},
   "outputs": [
    {
     "name": "stdout",
     "output_type": "stream",
     "text": [
      "Predicted Class: 1\n"
     ]
    },
    {
     "name": "stderr",
     "output_type": "stream",
     "text": [
      "C:\\Users\\Felipe\\anaconda3\\lib\\site-packages\\sklearn\\base.py:450: UserWarning: X does not have valid feature names, but LinearDiscriminantAnalysis was fitted with feature names\n",
      "  warnings.warn(\n"
     ]
    }
   ],
   "source": [
    "row = [70, 1, 4, 109, 0, 2.4, 2, 3, 3]\n",
    "model.fit(X, y_binary)\n",
    "test = model.predict([row])\n",
    "print('Predicted Class: %d' % test)"
   ]
  },
  {
   "cell_type": "code",
   "execution_count": 45,
   "id": "f3607342",
   "metadata": {},
   "outputs": [
    {
     "name": "stdout",
     "output_type": "stream",
     "text": [
      "Mean Accuracy: 0.853\n",
      "Config: {'solver': 'svd'}\n"
     ]
    }
   ],
   "source": [
    "grid = dict()\n",
    "grid['solver'] = ['svd', 'lsqr', 'eigen']\n",
    "search = GridSearchCV(model, grid, scoring='accuracy', cv=cv, n_jobs=-1)\n",
    "results = search.fit(X, y)\n",
    "print('Mean Accuracy: %.3f' % results.best_score_)\n",
    "print('Config: %s' % results.best_params_)"
   ]
  },
  {
   "cell_type": "code",
   "execution_count": 46,
   "id": "604e49e2",
   "metadata": {},
   "outputs": [
    {
     "name": "stdout",
     "output_type": "stream",
     "text": [
      "Mean Accuracy: 0.853\n",
      "Config: {'shrinkage': 0.0}\n"
     ]
    }
   ],
   "source": [
    "model = LinearDiscriminantAnalysis(solver = 'lsqr')\n",
    "grid = dict()\n",
    "grid['shrinkage'] = np.arange(0, 1, 0.01)\n",
    "search = GridSearchCV(model, grid, scoring='accuracy', cv=cv, n_jobs=-1)\n",
    "results = search.fit(X, y)\n",
    "print('Mean Accuracy: %.3f' % results.best_score_)\n",
    "print('Config: %s' % results.best_params_)"
   ]
  }
 ],
 "metadata": {
  "kernelspec": {
   "display_name": "Python 3 (ipykernel)",
   "language": "python",
   "name": "python3"
  },
  "language_info": {
   "codemirror_mode": {
    "name": "ipython",
    "version": 3
   },
   "file_extension": ".py",
   "mimetype": "text/x-python",
   "name": "python",
   "nbconvert_exporter": "python",
   "pygments_lexer": "ipython3",
   "version": "3.9.13"
  }
 },
 "nbformat": 4,
 "nbformat_minor": 5
}
